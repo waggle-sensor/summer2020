{
 "cells": [
  {
   "cell_type": "markdown",
   "metadata": {},
   "source": [
    "# Make .npy dataset"
   ]
  },
  {
   "cell_type": "code",
   "execution_count": 1,
   "metadata": {},
   "outputs": [],
   "source": [
    "working_dir = '/Volumes/Samsung_T5/WeatherNet/Make_NP_DataSet'\n",
    "data_dir = '/Volumes/Samsung_T5/WeatherNet/data'"
   ]
  },
  {
   "cell_type": "markdown",
   "metadata": {},
   "source": [
    "## Import modules"
   ]
  },
  {
   "cell_type": "code",
   "execution_count": 2,
   "metadata": {},
   "outputs": [],
   "source": [
    "import os \n",
    "import shutil\n",
    "import glob\n",
    "from tqdm import trange\n",
    "import numpy as np \n",
    "from PIL import Image\n",
    "import matplotlib.pyplot as plt\n",
    "import matplotlib.image as mpimg"
   ]
  },
  {
   "cell_type": "code",
   "execution_count": 3,
   "metadata": {},
   "outputs": [
    {
     "ename": "FileExistsError",
     "evalue": "[Errno 17] File exists: '/Volumes/Samsung_T5/WeatherNet/Make_NP_DataSet/data_npy'",
     "output_type": "error",
     "traceback": [
      "\u001b[0;31m---------------------------------------------------------------------------\u001b[0m",
      "\u001b[0;31mFileExistsError\u001b[0m                           Traceback (most recent call last)",
      "\u001b[0;32m<ipython-input-3-c4344f4699b2>\u001b[0m in \u001b[0;36m<module>\u001b[0;34m\u001b[0m\n\u001b[1;32m      1\u001b[0m \u001b[0mdata_npy_path\u001b[0m \u001b[0;34m=\u001b[0m \u001b[0mworking_dir\u001b[0m\u001b[0;34m+\u001b[0m\u001b[0;34m\"/data_npy\"\u001b[0m\u001b[0;34m\u001b[0m\u001b[0;34m\u001b[0m\u001b[0m\n\u001b[0;32m----> 2\u001b[0;31m \u001b[0mos\u001b[0m\u001b[0;34m.\u001b[0m\u001b[0mmkdir\u001b[0m\u001b[0;34m(\u001b[0m\u001b[0mdata_npy_path\u001b[0m\u001b[0;34m)\u001b[0m\u001b[0;34m\u001b[0m\u001b[0;34m\u001b[0m\u001b[0m\n\u001b[0m",
      "\u001b[0;31mFileExistsError\u001b[0m: [Errno 17] File exists: '/Volumes/Samsung_T5/WeatherNet/Make_NP_DataSet/data_npy'"
     ]
    }
   ],
   "source": [
    "data_npy_path = working_dir+\"/data_npy\"\n",
    "os.mkdir(data_npy_path)"
   ]
  },
  {
   "cell_type": "code",
   "execution_count": null,
   "metadata": {},
   "outputs": [],
   "source": [
    "os.chdir(data_dir)\n",
    "os.system(\"dot_clean \")"
   ]
  },
  {
   "cell_type": "code",
   "execution_count": null,
   "metadata": {},
   "outputs": [],
   "source": [
    "os.mkdir(data_npy_path+\"/train\")\n",
    "os.mkdir(data_npy_path+\"/val\")\n",
    "os.mkdir(data_npy_path+\"/test\")"
   ]
  },
  {
   "cell_type": "code",
   "execution_count": null,
   "metadata": {},
   "outputs": [],
   "source": [
    "os.mkdir(data_npy_path+\"/train/flir\")\n",
    "os.mkdir(data_npy_path+\"/train/top\")\n",
    "os.mkdir(data_npy_path+\"/train/bottom\")\n",
    "\n",
    "os.mkdir(data_npy_path+\"/val/flir\")\n",
    "os.mkdir(data_npy_path+\"/val/top\")\n",
    "os.mkdir(data_npy_path+\"/val/bottom\")\n",
    "\n",
    "os.mkdir(data_npy_path+\"/test/flir\")\n",
    "os.mkdir(data_npy_path+\"/test/top\")\n",
    "os.mkdir(data_npy_path+\"/test/bottom\")"
   ]
  },
  {
   "cell_type": "markdown",
   "metadata": {},
   "source": [
    "## Make train npy"
   ]
  },
  {
   "cell_type": "code",
   "execution_count": null,
   "metadata": {},
   "outputs": [],
   "source": [
    "train_bottom_path_npy = working_dir + \"/data_npy/train/bottom\"\n",
    "\n",
    "train_flir_path_npy = working_dir + \"/data_npy/train/flir\"\n",
    "\n",
    "train_top_path_npy = working_dir + \"/data_npy/train/top\""
   ]
  },
  {
   "cell_type": "code",
   "execution_count": null,
   "metadata": {},
   "outputs": [],
   "source": [
    "train_bottom_path = working_dir + \"/data/train/bottom\"\n",
    "train_bottom_low = train_bottom_path + \"/low\"\n",
    "train_bottom_mid = train_bottom_path + \"/mid\"\n",
    "train_bottom_high = train_bottom_path + \"/high\"\n",
    "\n",
    "train_flir_path = working_dir + \"/data/train/flir\"\n",
    "train_flir_low = train_flir_path + \"/low\"\n",
    "train_flir_mid = train_flir_path + \"/mid\"\n",
    "train_flir_high = train_flir_path + \"/high\"\n",
    "\n",
    "train_top_path = working_dir + \"/data/train/top\"\n",
    "train_top_low = train_top_path + \"/low\"\n",
    "train_top_mid = train_top_path + \"/mid\"\n",
    "train_top_high = train_top_path + \"/high\""
   ]
  },
  {
   "cell_type": "code",
   "execution_count": null,
   "metadata": {},
   "outputs": [],
   "source": [
    "def convert_pic_seq(path,npy_path):\n",
    "    files = glob.glob(path+\"/*.jpg\")\n",
    "    files.sort()\n",
    "\n",
    "    for i in trange(0,len(files),n_frames):\n",
    "        label,name = files[i].split(\"/\")[-2:]\n",
    "        name = name.split(\"_\")[:-1]\n",
    "        name = \"_\".join(name)\n",
    "        seq = files[i:i+n_frames]\n",
    "        pics = []\n",
    "        for j,pic_path in enumerate(seq):\n",
    "            im = Image.open(pic_path)  \n",
    "            if im.size != (img_height,img_width):\n",
    "                im = im.resize((img_height,img_width))\n",
    "            im2arr = np.array(im)    \n",
    "            im2arr = im2arr.reshape(3,img_height,img_width)\n",
    "            pics.append(im2arr) \n",
    "        pics = np.stack(pics)    \n",
    "        np.save(npy_path+\"/\"+name+\"_\"+label, pics)"
   ]
  },
  {
   "cell_type": "code",
   "execution_count": null,
   "metadata": {},
   "outputs": [],
   "source": [
    "n_frames = 6\n",
    "img_height = 480\n",
    "img_width = 640"
   ]
  },
  {
   "cell_type": "code",
   "execution_count": null,
   "metadata": {},
   "outputs": [],
   "source": [
    "convert_pic_seq(train_bottom_low,train_bottom_path_npy)\n",
    "convert_pic_seq(train_top_low,train_top_path_npy)\n",
    "convert_pic_seq(train_flir_low,train_flir_path_npy)\n",
    "\n",
    "convert_pic_seq(train_bottom_mid,train_bottom_path_npy)\n",
    "convert_pic_seq(train_top_mid,train_top_path_npy)\n",
    "convert_pic_seq(train_flir_mid,train_flir_path_npy)\n",
    "\n",
    "convert_pic_seq(train_bottom_high,train_bottom_path_npy)\n",
    "convert_pic_seq(train_top_high,train_top_path_npy)\n",
    "convert_pic_seq(train_flir_high,train_flir_path_npy)"
   ]
  },
  {
   "cell_type": "markdown",
   "metadata": {},
   "source": [
    "### View image set"
   ]
  },
  {
   "cell_type": "code",
   "execution_count": null,
   "metadata": {},
   "outputs": [],
   "source": [
    "pic_seq =np.load('/Volumes/Samsung_T5/WeatherNet/Make_NP_DataSet/data_npy/train/bottom/2020_01_23_01_low.npy')"
   ]
  },
  {
   "cell_type": "code",
   "execution_count": null,
   "metadata": {},
   "outputs": [],
   "source": [
    "fig=plt.figure(figsize=(8,8))\n",
    "columns = 3\n",
    "rows = 2\n",
    "for i in range(1, columns*rows +1):\n",
    "    fig.add_subplot(rows, columns, i)\n",
    "    plt.imshow(pic_seq[i-1,:,:,:].reshape(img_width,img_height,3))\n",
    "plt.show()"
   ]
  },
  {
   "cell_type": "markdown",
   "metadata": {},
   "source": [
    "## Make val npy"
   ]
  },
  {
   "cell_type": "code",
   "execution_count": null,
   "metadata": {},
   "outputs": [],
   "source": [
    "val_bottom_path_npy = working_dir + \"/data_npy/val/bottom\"\n",
    "\n",
    "val_flir_path_npy = working_dir + \"/data_npy/val/flir\"\n",
    "\n",
    "val_top_path_npy = working_dir + \"/data_npy/val/top\"\n",
    "\n",
    "val_bottom_path = working_dir + \"/data/val/bottom\"\n",
    "val_bottom_low = val_bottom_path + \"/low\"\n",
    "val_bottom_mid = val_bottom_path + \"/mid\"\n",
    "val_bottom_high = val_bottom_path + \"/high\"\n",
    "\n",
    "val_flir_path = working_dir + \"/data/val/flir\"\n",
    "val_flir_low = val_flir_path + \"/low\"\n",
    "val_flir_mid = val_flir_path + \"/mid\"\n",
    "val_flir_high = val_flir_path + \"/high\"\n",
    "\n",
    "val_top_path = working_dir + \"/data/val/top\"\n",
    "val_top_low = val_top_path + \"/low\"\n",
    "val_top_mid = val_top_path + \"/mid\"\n",
    "val_top_high = val_top_path + \"/high\""
   ]
  },
  {
   "cell_type": "code",
   "execution_count": null,
   "metadata": {},
   "outputs": [],
   "source": [
    "convert_pic_seq(val_bottom_low,val_bottom_path_npy)\n",
    "convert_pic_seq(val_top_low,val_top_path_npy)\n",
    "convert_pic_seq(val_flir_low,val_flir_path_npy)\n",
    "\n",
    "convert_pic_seq(val_bottom_mid,val_bottom_path_npy)\n",
    "convert_pic_seq(val_top_mid,val_top_path_npy)\n",
    "convert_pic_seq(val_flir_mid,val_flir_path_npy)\n",
    "\n",
    "convert_pic_seq(val_bottom_high,val_bottom_path_npy)\n",
    "convert_pic_seq(val_top_high,val_top_path_npy)\n",
    "convert_pic_seq(val_flir_high,val_flir_path_npy)"
   ]
  },
  {
   "cell_type": "markdown",
   "metadata": {},
   "source": [
    "## Make test npy"
   ]
  },
  {
   "cell_type": "code",
   "execution_count": null,
   "metadata": {},
   "outputs": [],
   "source": [
    "test_bottom_path_npy = working_dir + \"/data_npy/test/bottom\"\n",
    "\n",
    "test_flir_path_npy = working_dir + \"/data_npy/test/flir\"\n",
    "\n",
    "test_top_path_npy = working_dir + \"/data_npy/test/top\"\n",
    "\n",
    "test_bottom_path = working_dir + \"/data/test/bottom\"\n",
    "test_bottom_low = test_bottom_path + \"/low\"\n",
    "test_bottom_mid = test_bottom_path + \"/mid\"\n",
    "test_bottom_high = test_bottom_path + \"/high\"\n",
    "\n",
    "test_flir_path = working_dir + \"/data/test/flir\"\n",
    "test_flir_low = test_flir_path + \"/low\"\n",
    "test_flir_mid = test_flir_path + \"/mid\"\n",
    "test_flir_high = test_flir_path + \"/high\"\n",
    "\n",
    "test_top_path = working_dir + \"/data/test/top\"\n",
    "test_top_low = test_top_path + \"/low\"\n",
    "test_top_mid = test_top_path + \"/mid\"\n",
    "test_top_high = test_top_path + \"/high\""
   ]
  },
  {
   "cell_type": "code",
   "execution_count": null,
   "metadata": {},
   "outputs": [],
   "source": [
    "convert_pic_seq(test_bottom_low,test_bottom_path_npy)\n",
    "convert_pic_seq(test_top_low,test_top_path_npy)\n",
    "convert_pic_seq(test_flir_low,test_flir_path_npy)"
   ]
  },
  {
   "cell_type": "code",
   "execution_count": null,
   "metadata": {},
   "outputs": [],
   "source": [
    "convert_pic_seq(test_bottom_mid,test_bottom_path_npy)\n",
    "convert_pic_seq(test_top_mid,test_top_path_npy)\n",
    "convert_pic_seq(test_flir_mid,test_flir_path_npy)"
   ]
  },
  {
   "cell_type": "code",
   "execution_count": null,
   "metadata": {},
   "outputs": [],
   "source": [
    "convert_pic_seq(test_bottom_high,test_bottom_path_npy)\n",
    "convert_pic_seq(test_top_high,test_top_path_npy)\n",
    "convert_pic_seq(test_flir_high,test_flir_path_npy)"
   ]
  },
  {
   "cell_type": "code",
   "execution_count": null,
   "metadata": {},
   "outputs": [],
   "source": []
  },
  {
   "cell_type": "code",
   "execution_count": null,
   "metadata": {},
   "outputs": [],
   "source": []
  }
 ],
 "metadata": {
  "kernelspec": {
   "display_name": "Python 3",
   "language": "python",
   "name": "python3"
  },
  "language_info": {
   "codemirror_mode": {
    "name": "ipython",
    "version": 3
   },
   "file_extension": ".py",
   "mimetype": "text/x-python",
   "name": "python",
   "nbconvert_exporter": "python",
   "pygments_lexer": "ipython3",
   "version": "3.7.3"
  }
 },
 "nbformat": 4,
 "nbformat_minor": 2
}
