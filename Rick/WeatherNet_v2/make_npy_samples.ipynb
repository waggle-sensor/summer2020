{
 "cells": [
  {
   "cell_type": "markdown",
   "metadata": {},
   "source": [
    "# Make Image Sequences for ConvLSTM"
   ]
  },
  {
   "cell_type": "code",
   "execution_count": 1,
   "metadata": {},
   "outputs": [],
   "source": [
    "working_dir = \"/Volumes/Samsung_T5/WeatherNet_V2\"\n",
    "img_dir = working_dir + \"/data_clean\""
   ]
  },
  {
   "cell_type": "markdown",
   "metadata": {},
   "source": [
    "## Import Modules"
   ]
  },
  {
   "cell_type": "code",
   "execution_count": 2,
   "metadata": {},
   "outputs": [],
   "source": [
    "import pandas as pd \n",
    "import numpy as np \n",
    "\n",
    "from PIL import Image\n",
    "\n",
    "import os \n",
    "import glob \n",
    "import shutil\n",
    "\n",
    "import matplotlib.pyplot as plt \n",
    "import matplotlib.image as mpimg\n",
    "\n",
    "from tqdm import trange\n",
    "from tqdm import tqdm"
   ]
  },
  {
   "cell_type": "code",
   "execution_count": 3,
   "metadata": {},
   "outputs": [
    {
     "data": {
      "text/plain": [
       "['flir', 'top', 'bottom']"
      ]
     },
     "execution_count": 3,
     "metadata": {},
     "output_type": "execute_result"
    }
   ],
   "source": [
    "os.system(\"dot_clean .\")\n",
    "os.listdir(img_dir)"
   ]
  },
  {
   "cell_type": "markdown",
   "metadata": {},
   "source": [
    "## Make Dir for npy Data"
   ]
  },
  {
   "cell_type": "code",
   "execution_count": 4,
   "metadata": {},
   "outputs": [],
   "source": [
    "os.mkdir(working_dir + \"/npy_dataset\")"
   ]
  },
  {
   "cell_type": "code",
   "execution_count": 5,
   "metadata": {},
   "outputs": [],
   "source": [
    "flir_npy_path = working_dir + \"/npy_dataset/flir\"\n",
    "top_npy_path = working_dir + \"/npy_dataset/top\"\n",
    "bottom_npy_path = working_dir + \"/npy_dataset/bottom\"\n",
    "\n",
    "os.mkdir(flir_npy_path)\n",
    "os.mkdir(top_npy_path)\n",
    "os.mkdir(bottom_npy_path)"
   ]
  },
  {
   "cell_type": "markdown",
   "metadata": {},
   "source": [
    "## Declare Img Paths"
   ]
  },
  {
   "cell_type": "code",
   "execution_count": 6,
   "metadata": {},
   "outputs": [],
   "source": [
    "flir_dir = img_dir + \"/flir\"\n",
    "top_dir = img_dir + \"/top\"\n",
    "bottom_dir = img_dir + \"/bottom\"\n",
    "\n",
    "os.chdir(flir_dir)\n",
    "os.system(\"dot_clean .\")\n",
    "\n",
    "os.chdir(top_dir)\n",
    "os.system(\"dot_clean .\")\n",
    "\n",
    "os.chdir(bottom_dir)\n",
    "os.system(\"dot_clean .\")\n",
    "\n",
    "os.chdir(working_dir)"
   ]
  },
  {
   "cell_type": "code",
   "execution_count": 7,
   "metadata": {},
   "outputs": [
    {
     "name": "stdout",
     "output_type": "stream",
     "text": [
      "equal\n"
     ]
    }
   ],
   "source": [
    "# Check if files have all the same images\n",
    "pic_names = os.listdir(flir_dir)\n",
    "b = os.listdir(top_dir)\n",
    "c = os.listdir(bottom_dir)\n",
    "\n",
    "pic_names.sort()\n",
    "b.sort()\n",
    "c.sort()\n",
    "\n",
    "if pic_names == c == b:\n",
    "    print(\"equal\")\n",
    "else:\n",
    "    print(\"not equal\")"
   ]
  },
  {
   "cell_type": "markdown",
   "metadata": {},
   "source": [
    "## Get Dates"
   ]
  },
  {
   "cell_type": "code",
   "execution_count": 8,
   "metadata": {},
   "outputs": [
    {
     "data": {
      "text/html": [
       "<div>\n",
       "<style scoped>\n",
       "    .dataframe tbody tr th:only-of-type {\n",
       "        vertical-align: middle;\n",
       "    }\n",
       "\n",
       "    .dataframe tbody tr th {\n",
       "        vertical-align: top;\n",
       "    }\n",
       "\n",
       "    .dataframe thead th {\n",
       "        text-align: right;\n",
       "    }\n",
       "</style>\n",
       "<table border=\"1\" class=\"dataframe\">\n",
       "  <thead>\n",
       "    <tr style=\"text-align: right;\">\n",
       "      <th></th>\n",
       "      <th>time_stamp</th>\n",
       "      <th>Month</th>\n",
       "      <th>Average 60 m temperature</th>\n",
       "      <th>Average 60 m wind speed</th>\n",
       "      <th>Vector-averaged 60 m wind speed</th>\n",
       "      <th>Vector-averaged 60 m wind direction</th>\n",
       "      <th>Standard deviation of 60 m wind direction</th>\n",
       "      <th>Total precipitaion for the period</th>\n",
       "      <th>Estimated heat flux</th>\n",
       "      <th>Estimated friction velocity</th>\n",
       "      <th>...</th>\n",
       "      <th>Average global irrradiation</th>\n",
       "      <th>Average net radiation</th>\n",
       "      <th>Estimated surface roughness length</th>\n",
       "      <th>day_month</th>\n",
       "      <th>Average 10 m vapor pressure</th>\n",
       "      <th>Average 10 m dew point temperature</th>\n",
       "      <th>hour_min</th>\n",
       "      <th>time_stamp.1</th>\n",
       "      <th>target</th>\n",
       "      <th>p_target_1</th>\n",
       "    </tr>\n",
       "  </thead>\n",
       "  <tbody>\n",
       "    <tr>\n",
       "      <th>0</th>\n",
       "      <td>2020_01_01_00_15</td>\n",
       "      <td>1</td>\n",
       "      <td>-3.4994</td>\n",
       "      <td>584.35</td>\n",
       "      <td>578.00</td>\n",
       "      <td>263.98</td>\n",
       "      <td>8.4474</td>\n",
       "      <td>0.0</td>\n",
       "      <td>0.0</td>\n",
       "      <td>34.89</td>\n",
       "      <td>...</td>\n",
       "      <td>0.0</td>\n",
       "      <td>-52.595</td>\n",
       "      <td>7.61</td>\n",
       "      <td>1</td>\n",
       "      <td>0.418</td>\n",
       "      <td>-5.1122</td>\n",
       "      <td>00_15</td>\n",
       "      <td>2020_01_01_00_15</td>\n",
       "      <td>0</td>\n",
       "      <td>0</td>\n",
       "    </tr>\n",
       "    <tr>\n",
       "      <th>1</th>\n",
       "      <td>2020_01_01_00_30</td>\n",
       "      <td>1</td>\n",
       "      <td>-3.5981</td>\n",
       "      <td>622.76</td>\n",
       "      <td>616.97</td>\n",
       "      <td>263.45</td>\n",
       "      <td>7.8146</td>\n",
       "      <td>0.0</td>\n",
       "      <td>0.0</td>\n",
       "      <td>38.53</td>\n",
       "      <td>...</td>\n",
       "      <td>0.0</td>\n",
       "      <td>-52.977</td>\n",
       "      <td>9.21</td>\n",
       "      <td>1</td>\n",
       "      <td>0.414</td>\n",
       "      <td>-5.2493</td>\n",
       "      <td>00_30</td>\n",
       "      <td>2020_01_01_00_30</td>\n",
       "      <td>0</td>\n",
       "      <td>0</td>\n",
       "    </tr>\n",
       "    <tr>\n",
       "      <th>2</th>\n",
       "      <td>2020_01_01_00_45</td>\n",
       "      <td>1</td>\n",
       "      <td>-3.7045</td>\n",
       "      <td>642.28</td>\n",
       "      <td>636.82</td>\n",
       "      <td>263.51</td>\n",
       "      <td>7.4678</td>\n",
       "      <td>0.0</td>\n",
       "      <td>0.0</td>\n",
       "      <td>44.15</td>\n",
       "      <td>...</td>\n",
       "      <td>0.0</td>\n",
       "      <td>-53.749</td>\n",
       "      <td>17.02</td>\n",
       "      <td>1</td>\n",
       "      <td>0.414</td>\n",
       "      <td>-5.2413</td>\n",
       "      <td>00_45</td>\n",
       "      <td>2020_01_01_00_45</td>\n",
       "      <td>0</td>\n",
       "      <td>0</td>\n",
       "    </tr>\n",
       "    <tr>\n",
       "      <th>3</th>\n",
       "      <td>2020_01_01_01_00</td>\n",
       "      <td>1</td>\n",
       "      <td>-3.8625</td>\n",
       "      <td>596.84</td>\n",
       "      <td>591.08</td>\n",
       "      <td>262.92</td>\n",
       "      <td>7.9610</td>\n",
       "      <td>0.0</td>\n",
       "      <td>0.0</td>\n",
       "      <td>39.93</td>\n",
       "      <td>...</td>\n",
       "      <td>0.0</td>\n",
       "      <td>-54.059</td>\n",
       "      <td>14.98</td>\n",
       "      <td>1</td>\n",
       "      <td>0.411</td>\n",
       "      <td>-5.3480</td>\n",
       "      <td>01_00</td>\n",
       "      <td>2020_01_01_01_00</td>\n",
       "      <td>0</td>\n",
       "      <td>0</td>\n",
       "    </tr>\n",
       "    <tr>\n",
       "      <th>4</th>\n",
       "      <td>2020_01_01_01_15</td>\n",
       "      <td>1</td>\n",
       "      <td>-3.9970</td>\n",
       "      <td>559.11</td>\n",
       "      <td>554.50</td>\n",
       "      <td>262.78</td>\n",
       "      <td>7.3519</td>\n",
       "      <td>0.0</td>\n",
       "      <td>0.0</td>\n",
       "      <td>30.41</td>\n",
       "      <td>...</td>\n",
       "      <td>0.0</td>\n",
       "      <td>-53.716</td>\n",
       "      <td>4.33</td>\n",
       "      <td>1</td>\n",
       "      <td>0.407</td>\n",
       "      <td>-5.4834</td>\n",
       "      <td>01_15</td>\n",
       "      <td>2020_01_01_01_15</td>\n",
       "      <td>0</td>\n",
       "      <td>0</td>\n",
       "    </tr>\n",
       "  </tbody>\n",
       "</table>\n",
       "<p>5 rows × 25 columns</p>\n",
       "</div>"
      ],
      "text/plain": [
       "         time_stamp  Month  Average 60 m temperature  Average 60 m wind speed  \\\n",
       "0  2020_01_01_00_15      1                   -3.4994                   584.35   \n",
       "1  2020_01_01_00_30      1                   -3.5981                   622.76   \n",
       "2  2020_01_01_00_45      1                   -3.7045                   642.28   \n",
       "3  2020_01_01_01_00      1                   -3.8625                   596.84   \n",
       "4  2020_01_01_01_15      1                   -3.9970                   559.11   \n",
       "\n",
       "   Vector-averaged 60 m wind speed  Vector-averaged 60 m wind direction  \\\n",
       "0                           578.00                               263.98   \n",
       "1                           616.97                               263.45   \n",
       "2                           636.82                               263.51   \n",
       "3                           591.08                               262.92   \n",
       "4                           554.50                               262.78   \n",
       "\n",
       "   Standard deviation of 60 m wind direction  \\\n",
       "0                                     8.4474   \n",
       "1                                     7.8146   \n",
       "2                                     7.4678   \n",
       "3                                     7.9610   \n",
       "4                                     7.3519   \n",
       "\n",
       "   Total precipitaion for the period  Estimated heat flux  \\\n",
       "0                                0.0                  0.0   \n",
       "1                                0.0                  0.0   \n",
       "2                                0.0                  0.0   \n",
       "3                                0.0                  0.0   \n",
       "4                                0.0                  0.0   \n",
       "\n",
       "   Estimated friction velocity  ...  Average global irrradiation  \\\n",
       "0                        34.89  ...                          0.0   \n",
       "1                        38.53  ...                          0.0   \n",
       "2                        44.15  ...                          0.0   \n",
       "3                        39.93  ...                          0.0   \n",
       "4                        30.41  ...                          0.0   \n",
       "\n",
       "   Average net radiation  Estimated surface roughness length  day_month  \\\n",
       "0                -52.595                                7.61          1   \n",
       "1                -52.977                                9.21          1   \n",
       "2                -53.749                               17.02          1   \n",
       "3                -54.059                               14.98          1   \n",
       "4                -53.716                                4.33          1   \n",
       "\n",
       "   Average 10 m vapor pressure  Average 10 m dew point temperature  hour_min  \\\n",
       "0                        0.418                             -5.1122     00_15   \n",
       "1                        0.414                             -5.2493     00_30   \n",
       "2                        0.414                             -5.2413     00_45   \n",
       "3                        0.411                             -5.3480     01_00   \n",
       "4                        0.407                             -5.4834     01_15   \n",
       "\n",
       "       time_stamp.1  target  p_target_1  \n",
       "0  2020_01_01_00_15       0           0  \n",
       "1  2020_01_01_00_30       0           0  \n",
       "2  2020_01_01_00_45       0           0  \n",
       "3  2020_01_01_01_00       0           0  \n",
       "4  2020_01_01_01_15       0           0  \n",
       "\n",
       "[5 rows x 25 columns]"
      ]
     },
     "execution_count": 8,
     "metadata": {},
     "output_type": "execute_result"
    }
   ],
   "source": [
    "weather_data_path = working_dir + \"/weather_data_15min/15_min_weather_prep.csv\"\n",
    "weather_df = pd.read_csv(weather_data_path)\n",
    "weather_df.head()"
   ]
  },
  {
   "cell_type": "code",
   "execution_count": 9,
   "metadata": {},
   "outputs": [
    {
     "name": "stdout",
     "output_type": "stream",
     "text": [
      "['2020_01_01_00_15' '2020_01_01_00_30' '2020_01_01_00_45'\n",
      " '2020_01_01_01_00' '2020_01_01_01_15']\n"
     ]
    }
   ],
   "source": [
    "dates = weather_df[\"time_stamp\"].values\n",
    "print(dates[:5])"
   ]
  },
  {
   "cell_type": "markdown",
   "metadata": {},
   "source": [
    "## Make npy Samples"
   ]
  },
  {
   "cell_type": "code",
   "execution_count": 10,
   "metadata": {},
   "outputs": [],
   "source": [
    "seq_len = 4\n",
    "img_height = 480\n",
    "img_width = 640"
   ]
  },
  {
   "cell_type": "code",
   "execution_count": 11,
   "metadata": {},
   "outputs": [],
   "source": [
    "def make_img_seq(seq_pic_names, path, npy_path,img_height,img_width):\n",
    "    pics = []\n",
    "    for j,pic_name in enumerate(seq_pic_names):\n",
    "        im = Image.open(path + \"/\" + pic_name + \".jpg\")  \n",
    "        if im.size != (img_height,img_width):\n",
    "            im = im.resize((img_height,img_width))\n",
    "        im2arr = np.array(im)    \n",
    "        im2arr = im2arr.reshape(3,img_height,img_width)\n",
    "        pics.append(im2arr) \n",
    "    pics = np.stack(pics) \n",
    "    np.save(npy_path+\"/\"+seq_pic_names[-1], pics)\n",
    "    return pics"
   ]
  },
  {
   "cell_type": "code",
   "execution_count": null,
   "metadata": {},
   "outputs": [
    {
     "name": "stderr",
     "output_type": "stream",
     "text": [
      "1030it [21:24,  1.46s/it]"
     ]
    }
   ],
   "source": [
    "pic_names  = [name.split(\".\")[0] for i,name in enumerate(pic_names)]\n",
    "for i,pic_name in tqdm(enumerate(pic_names)):\n",
    "    # Get index in dates of pic name\n",
    "    idx = np.where(dates == pic_name)\n",
    "    \n",
    "    if idx[0].size != 0:\n",
    "        idx = idx[0][0]\n",
    "    \n",
    "        # Check if previous seq_len-1 is present in images\n",
    "        check = False\n",
    "        seq_names = dates[idx - seq_len + 1: idx + 1]\n",
    "        check = all(elem in pic_names for elem in seq_names)\n",
    "\n",
    "        # If present, make samples \n",
    "        if check == True:\n",
    "            make_img_seq(seq_names,flir_dir,flir_npy_path,img_height,img_width)\n",
    "            make_img_seq(seq_names,top_dir,top_npy_path,img_height,img_width)\n",
    "            make_img_seq(seq_names,bottom_dir,bottom_npy_path,img_height,img_width)\n"
   ]
  },
  {
   "cell_type": "markdown",
   "metadata": {},
   "source": [
    "## Show Sample of npy Img Sequence"
   ]
  },
  {
   "cell_type": "code",
   "execution_count": null,
   "metadata": {},
   "outputs": [],
   "source": [
    "sample =np.load('/Volumes/Samsung_T5/WeatherNet_V2/npy_dataset/bottom/2020_01_23_01_30.npy')\n",
    "sample.shape"
   ]
  },
  {
   "cell_type": "code",
   "execution_count": null,
   "metadata": {},
   "outputs": [],
   "source": [
    "fig=plt.figure(figsize=(8,8))\n",
    "columns = 4\n",
    "rows = 1\n",
    "for i in range(1, columns*rows +1):\n",
    "    fig.add_subplot(rows, columns, i)\n",
    "    plt.imshow(sample[i-1,:,:,:].reshape(img_width,img_height,3))\n",
    "plt.show()"
   ]
  },
  {
   "cell_type": "code",
   "execution_count": null,
   "metadata": {},
   "outputs": [],
   "source": []
  },
  {
   "cell_type": "code",
   "execution_count": null,
   "metadata": {},
   "outputs": [],
   "source": []
  },
  {
   "cell_type": "code",
   "execution_count": null,
   "metadata": {},
   "outputs": [],
   "source": []
  },
  {
   "cell_type": "code",
   "execution_count": null,
   "metadata": {},
   "outputs": [],
   "source": []
  }
 ],
 "metadata": {
  "kernelspec": {
   "display_name": "Python 3",
   "language": "python",
   "name": "python3"
  },
  "language_info": {
   "codemirror_mode": {
    "name": "ipython",
    "version": 3
   },
   "file_extension": ".py",
   "mimetype": "text/x-python",
   "name": "python",
   "nbconvert_exporter": "python",
   "pygments_lexer": "ipython3",
   "version": "3.7.4"
  }
 },
 "nbformat": 4,
 "nbformat_minor": 4
}
