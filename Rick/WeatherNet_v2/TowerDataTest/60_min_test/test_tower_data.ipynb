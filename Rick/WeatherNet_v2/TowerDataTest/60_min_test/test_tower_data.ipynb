{
 "cells": [
  {
   "cell_type": "markdown",
   "metadata": {},
   "source": [
    "# Solar Forecast with LSTM\n",
    "# Model Data: 60 minutes"
   ]
  },
  {
   "cell_type": "code",
   "execution_count": 1,
   "metadata": {},
   "outputs": [],
   "source": [
    "import os\n",
    "\n",
    "import numpy as np\n",
    "import pandas as pd\n",
    "\n",
    "import tensorflow as tf\n",
    "from tensorflow.keras import backend as K\n",
    "from tensorflow.keras.layers import *\n",
    "from tensorflow.keras.models import *\n",
    "from tensorflow.keras.callbacks import * \n",
    "from tensorflow.keras import regularizers\n",
    "from tensorflow.keras.optimizers import Adam\n",
    "from tensorflow.keras.preprocessing.sequence import TimeseriesGenerator\n",
    "\n",
    "from sklearn.metrics import classification_report"
   ]
  },
  {
   "cell_type": "code",
   "execution_count": 2,
   "metadata": {},
   "outputs": [],
   "source": [
    "working_dir = '/Volumes/Samsung_T5/WeatherNet_V2/TowerDataTest/60_min_test'"
   ]
  },
  {
   "cell_type": "markdown",
   "metadata": {},
   "source": [
    "## Make train generator"
   ]
  },
  {
   "cell_type": "code",
   "execution_count": 3,
   "metadata": {},
   "outputs": [
    {
     "name": "stdout",
     "output_type": "stream",
     "text": [
      "(13838, 152)\n"
     ]
    },
    {
     "data": {
      "text/html": [
       "<div>\n",
       "<style scoped>\n",
       "    .dataframe tbody tr th:only-of-type {\n",
       "        vertical-align: middle;\n",
       "    }\n",
       "\n",
       "    .dataframe tbody tr th {\n",
       "        vertical-align: top;\n",
       "    }\n",
       "\n",
       "    .dataframe thead th {\n",
       "        text-align: right;\n",
       "    }\n",
       "</style>\n",
       "<table border=\"1\" class=\"dataframe\">\n",
       "  <thead>\n",
       "    <tr style=\"text-align: right;\">\n",
       "      <th></th>\n",
       "      <th>Average 60 m temperature</th>\n",
       "      <th>Average 60 m wind speed</th>\n",
       "      <th>Vector-averaged 60 m wind speed</th>\n",
       "      <th>Vector-averaged 60 m wind direction</th>\n",
       "      <th>Standard deviation of 60 m wind direction</th>\n",
       "      <th>Total precipitaion for the period</th>\n",
       "      <th>Estimated heat flux</th>\n",
       "      <th>Estimated friction velocity</th>\n",
       "      <th>Average 10 m temperature</th>\n",
       "      <th>Average 10 m wind speed</th>\n",
       "      <th>...</th>\n",
       "      <th>day_month_22</th>\n",
       "      <th>day_month_23</th>\n",
       "      <th>day_month_24</th>\n",
       "      <th>day_month_25</th>\n",
       "      <th>day_month_26</th>\n",
       "      <th>day_month_27</th>\n",
       "      <th>day_month_28</th>\n",
       "      <th>day_month_29</th>\n",
       "      <th>day_month_30</th>\n",
       "      <th>day_month_31</th>\n",
       "    </tr>\n",
       "  </thead>\n",
       "  <tbody>\n",
       "    <tr>\n",
       "      <th>2020_01_01_00_15</th>\n",
       "      <td>0.000170</td>\n",
       "      <td>0.005553</td>\n",
       "      <td>0.005741</td>\n",
       "      <td>0.002639</td>\n",
       "      <td>0.000084</td>\n",
       "      <td>0.0</td>\n",
       "      <td>0.191211</td>\n",
       "      <td>0.035361</td>\n",
       "      <td>0.000173</td>\n",
       "      <td>0.004179</td>\n",
       "      <td>...</td>\n",
       "      <td>0</td>\n",
       "      <td>0</td>\n",
       "      <td>0</td>\n",
       "      <td>0</td>\n",
       "      <td>0</td>\n",
       "      <td>0</td>\n",
       "      <td>0</td>\n",
       "      <td>0</td>\n",
       "      <td>0</td>\n",
       "      <td>0</td>\n",
       "    </tr>\n",
       "    <tr>\n",
       "      <th>2020_01_01_00_30</th>\n",
       "      <td>0.000169</td>\n",
       "      <td>0.005937</td>\n",
       "      <td>0.006131</td>\n",
       "      <td>0.002634</td>\n",
       "      <td>0.000078</td>\n",
       "      <td>0.0</td>\n",
       "      <td>0.191211</td>\n",
       "      <td>0.039050</td>\n",
       "      <td>0.000172</td>\n",
       "      <td>0.004428</td>\n",
       "      <td>...</td>\n",
       "      <td>0</td>\n",
       "      <td>0</td>\n",
       "      <td>0</td>\n",
       "      <td>0</td>\n",
       "      <td>0</td>\n",
       "      <td>0</td>\n",
       "      <td>0</td>\n",
       "      <td>0</td>\n",
       "      <td>0</td>\n",
       "      <td>0</td>\n",
       "    </tr>\n",
       "    <tr>\n",
       "      <th>2020_01_01_00_45</th>\n",
       "      <td>0.000168</td>\n",
       "      <td>0.006132</td>\n",
       "      <td>0.006330</td>\n",
       "      <td>0.002635</td>\n",
       "      <td>0.000075</td>\n",
       "      <td>0.0</td>\n",
       "      <td>0.191211</td>\n",
       "      <td>0.044746</td>\n",
       "      <td>0.000171</td>\n",
       "      <td>0.004404</td>\n",
       "      <td>...</td>\n",
       "      <td>0</td>\n",
       "      <td>0</td>\n",
       "      <td>0</td>\n",
       "      <td>0</td>\n",
       "      <td>0</td>\n",
       "      <td>0</td>\n",
       "      <td>0</td>\n",
       "      <td>0</td>\n",
       "      <td>0</td>\n",
       "      <td>0</td>\n",
       "    </tr>\n",
       "    <tr>\n",
       "      <th>2020_01_01_01_00</th>\n",
       "      <td>0.000166</td>\n",
       "      <td>0.005678</td>\n",
       "      <td>0.005872</td>\n",
       "      <td>0.002629</td>\n",
       "      <td>0.000080</td>\n",
       "      <td>0.0</td>\n",
       "      <td>0.191211</td>\n",
       "      <td>0.040469</td>\n",
       "      <td>0.000169</td>\n",
       "      <td>0.004113</td>\n",
       "      <td>...</td>\n",
       "      <td>0</td>\n",
       "      <td>0</td>\n",
       "      <td>0</td>\n",
       "      <td>0</td>\n",
       "      <td>0</td>\n",
       "      <td>0</td>\n",
       "      <td>0</td>\n",
       "      <td>0</td>\n",
       "      <td>0</td>\n",
       "      <td>0</td>\n",
       "    </tr>\n",
       "    <tr>\n",
       "      <th>2020_01_01_01_15</th>\n",
       "      <td>0.000165</td>\n",
       "      <td>0.005300</td>\n",
       "      <td>0.005506</td>\n",
       "      <td>0.002627</td>\n",
       "      <td>0.000074</td>\n",
       "      <td>0.0</td>\n",
       "      <td>0.191211</td>\n",
       "      <td>0.030821</td>\n",
       "      <td>0.000168</td>\n",
       "      <td>0.004074</td>\n",
       "      <td>...</td>\n",
       "      <td>0</td>\n",
       "      <td>0</td>\n",
       "      <td>0</td>\n",
       "      <td>0</td>\n",
       "      <td>0</td>\n",
       "      <td>0</td>\n",
       "      <td>0</td>\n",
       "      <td>0</td>\n",
       "      <td>0</td>\n",
       "      <td>0</td>\n",
       "    </tr>\n",
       "  </tbody>\n",
       "</table>\n",
       "<p>5 rows × 152 columns</p>\n",
       "</div>"
      ],
      "text/plain": [
       "                  Average 60 m temperature  Average 60 m wind speed  \\\n",
       "2020_01_01_00_15                  0.000170                 0.005553   \n",
       "2020_01_01_00_30                  0.000169                 0.005937   \n",
       "2020_01_01_00_45                  0.000168                 0.006132   \n",
       "2020_01_01_01_00                  0.000166                 0.005678   \n",
       "2020_01_01_01_15                  0.000165                 0.005300   \n",
       "\n",
       "                  Vector-averaged 60 m wind speed  \\\n",
       "2020_01_01_00_15                         0.005741   \n",
       "2020_01_01_00_30                         0.006131   \n",
       "2020_01_01_00_45                         0.006330   \n",
       "2020_01_01_01_00                         0.005872   \n",
       "2020_01_01_01_15                         0.005506   \n",
       "\n",
       "                  Vector-averaged 60 m wind direction  \\\n",
       "2020_01_01_00_15                             0.002639   \n",
       "2020_01_01_00_30                             0.002634   \n",
       "2020_01_01_00_45                             0.002635   \n",
       "2020_01_01_01_00                             0.002629   \n",
       "2020_01_01_01_15                             0.002627   \n",
       "\n",
       "                  Standard deviation of 60 m wind direction  \\\n",
       "2020_01_01_00_15                                   0.000084   \n",
       "2020_01_01_00_30                                   0.000078   \n",
       "2020_01_01_00_45                                   0.000075   \n",
       "2020_01_01_01_00                                   0.000080   \n",
       "2020_01_01_01_15                                   0.000074   \n",
       "\n",
       "                  Total precipitaion for the period  Estimated heat flux  \\\n",
       "2020_01_01_00_15                                0.0             0.191211   \n",
       "2020_01_01_00_30                                0.0             0.191211   \n",
       "2020_01_01_00_45                                0.0             0.191211   \n",
       "2020_01_01_01_00                                0.0             0.191211   \n",
       "2020_01_01_01_15                                0.0             0.191211   \n",
       "\n",
       "                  Estimated friction velocity  Average 10 m temperature  \\\n",
       "2020_01_01_00_15                     0.035361                  0.000173   \n",
       "2020_01_01_00_30                     0.039050                  0.000172   \n",
       "2020_01_01_00_45                     0.044746                  0.000171   \n",
       "2020_01_01_01_00                     0.040469                  0.000169   \n",
       "2020_01_01_01_15                     0.030821                  0.000168   \n",
       "\n",
       "                  Average 10 m wind speed  ...  day_month_22  day_month_23  \\\n",
       "2020_01_01_00_15                 0.004179  ...             0             0   \n",
       "2020_01_01_00_30                 0.004428  ...             0             0   \n",
       "2020_01_01_00_45                 0.004404  ...             0             0   \n",
       "2020_01_01_01_00                 0.004113  ...             0             0   \n",
       "2020_01_01_01_15                 0.004074  ...             0             0   \n",
       "\n",
       "                  day_month_24  day_month_25  day_month_26  day_month_27  \\\n",
       "2020_01_01_00_15             0             0             0             0   \n",
       "2020_01_01_00_30             0             0             0             0   \n",
       "2020_01_01_00_45             0             0             0             0   \n",
       "2020_01_01_01_00             0             0             0             0   \n",
       "2020_01_01_01_15             0             0             0             0   \n",
       "\n",
       "                  day_month_28  day_month_29  day_month_30  day_month_31  \n",
       "2020_01_01_00_15             0             0             0             0  \n",
       "2020_01_01_00_30             0             0             0             0  \n",
       "2020_01_01_00_45             0             0             0             0  \n",
       "2020_01_01_01_00             0             0             0             0  \n",
       "2020_01_01_01_15             0             0             0             0  \n",
       "\n",
       "[5 rows x 152 columns]"
      ]
     },
     "execution_count": 3,
     "metadata": {},
     "output_type": "execute_result"
    }
   ],
   "source": [
    "train_df = pd.read_csv(working_dir+\"/train_weather.csv\")\n",
    "train_df.index = train_df['Unnamed: 0'].values\n",
    "train_df.drop(['Unnamed: 0'],axis=1,inplace=True)\n",
    "print(train_df.shape)\n",
    "train_df.head()"
   ]
  },
  {
   "cell_type": "code",
   "execution_count": 4,
   "metadata": {},
   "outputs": [
    {
     "data": {
      "text/plain": [
       "2020_01_01_00_15    0\n",
       "2020_01_01_00_30    0\n",
       "2020_01_01_00_45    0\n",
       "2020_01_01_01_00    0\n",
       "2020_01_01_01_15    0\n",
       "Name: p_target_4, dtype: int64"
      ]
     },
     "execution_count": 4,
     "metadata": {},
     "output_type": "execute_result"
    }
   ],
   "source": [
    "train_df['p_target_4'].head(5)"
   ]
  },
  {
   "cell_type": "code",
   "execution_count": 5,
   "metadata": {},
   "outputs": [
    {
     "name": "stdout",
     "output_type": "stream",
     "text": [
      "(13838, 151)\n"
     ]
    }
   ],
   "source": [
    "y_train = train_df[\"p_target_4\"].values\n",
    "y_train_hot = np.zeros((y_train.size, y_train.max()+1))\n",
    "y_train_hot[np.arange(y_train.size),y_train] = 1\n",
    "\n",
    "train_df.drop(['p_target_4'],axis=1,inplace=True)\n",
    "X_train = train_df.values\n",
    "print(X_train.shape)"
   ]
  },
  {
   "cell_type": "code",
   "execution_count": 6,
   "metadata": {},
   "outputs": [
    {
     "name": "stdout",
     "output_type": "stream",
     "text": [
      "865\n"
     ]
    }
   ],
   "source": [
    "time_steps = 4\n",
    "train_gen = TimeseriesGenerator(X_train, y_train_hot,length=time_steps,batch_size=16)\n",
    "print(len(train_gen))"
   ]
  },
  {
   "cell_type": "code",
   "execution_count": 7,
   "metadata": {},
   "outputs": [
    {
     "name": "stdout",
     "output_type": "stream",
     "text": [
      "(16, 4, 151)\n",
      "(16, 3)\n"
     ]
    }
   ],
   "source": [
    "# test generator to have corresponding labels\n",
    "batch_0 = train_gen[0]\n",
    "x, y = batch_0\n",
    "\n",
    "print(x.shape)\n",
    "print(y.shape)"
   ]
  },
  {
   "cell_type": "markdown",
   "metadata": {},
   "source": [
    "## Declare Model"
   ]
  },
  {
   "cell_type": "code",
   "execution_count": 8,
   "metadata": {},
   "outputs": [
    {
     "name": "stdout",
     "output_type": "stream",
     "text": [
      "Model: \"model\"\n",
      "_________________________________________________________________\n",
      "Layer (type)                 Output Shape              Param #   \n",
      "=================================================================\n",
      "input_1 (InputLayer)         [(None, 4, 151)]          0         \n",
      "_________________________________________________________________\n",
      "lstm (LSTM)                  (None, 4, 64)             55296     \n",
      "_________________________________________________________________\n",
      "layer_normalization (LayerNo (None, 4, 64)             128       \n",
      "_________________________________________________________________\n",
      "lstm_1 (LSTM)                (None, 32)                12416     \n",
      "_________________________________________________________________\n",
      "dropout (Dropout)            (None, 32)                0         \n",
      "_________________________________________________________________\n",
      "layer_normalization_1 (Layer (None, 32)                64        \n",
      "_________________________________________________________________\n",
      "dense (Dense)                (None, 3)                 99        \n",
      "=================================================================\n",
      "Total params: 68,003\n",
      "Trainable params: 68,003\n",
      "Non-trainable params: 0\n",
      "_________________________________________________________________\n"
     ]
    }
   ],
   "source": [
    "i = Input(shape=(time_steps,X_train.shape[1]))\n",
    "\n",
    "x = LSTM(64,kernel_regularizer=regularizers.l1_l2(l1=1e-4, l2=1e-4),\\\n",
    "    bias_regularizer=regularizers.l2(1e-4),\\\n",
    "        recurrent_dropout=0.15,dropout=.15,return_sequences=True)(i)\n",
    "x = LayerNormalization()(x)\n",
    "x = LSTM(32,kernel_regularizer=regularizers.l1_l2(l1=1e-4, l2=1e-4),\\\n",
    "    bias_regularizer=regularizers.l2(1e-4),\\\n",
    "        recurrent_dropout=0.15,dropout=.15,return_sequences=False)(x)\n",
    "x = Dropout(.2)(x)\n",
    "x = LayerNormalization()(x)\n",
    "y = Dense(3,activation=\"softmax\",kernel_regularizer=regularizers.l1_l2(l1=1e-4, l2=1e-4),\\\n",
    "    bias_regularizer=regularizers.l2(1e-4))(x)\n",
    "    \n",
    "model = Model(i, y) \n",
    "opt = Adam(.0001)\n",
    "model.compile(loss='categorical_crossentropy',metrics=[\"acc\"], optimizer=opt)\n",
    "model.summary()"
   ]
  },
  {
   "cell_type": "code",
   "execution_count": 9,
   "metadata": {},
   "outputs": [
    {
     "data": {
      "image/png": "[encoded data removed]",
      "text/plain": [
       "<IPython.core.display.Image object>"
      ]
     },
     "execution_count": 9,
     "metadata": {},
     "output_type": "execute_result"
    }
   ],
   "source": [
    "tf.keras.utils.plot_model(\n",
    "    model,\n",
    "    to_file=\"LSTM_Solar_Forecast_Model.png\",\n",
    "    show_shapes=True,\n",
    "    show_layer_names=True,\n",
    "    rankdir=\"TB\",\n",
    "    expand_nested=False,\n",
    "    dpi=96,\n",
    ")"
   ]
  },
  {
   "cell_type": "code",
   "execution_count": 10,
   "metadata": {},
   "outputs": [
    {
     "name": "stdout",
     "output_type": "stream",
     "text": [
      "WARNING:tensorflow:sample_weight modes were coerced from\n",
      "  ...\n",
      "    to  \n",
      "  ['...']\n",
      "Train for 865 steps\n",
      "Epoch 1/20\n",
      "865/865 - 11s - loss: 1.3507 - acc: 0.5299\n",
      "Epoch 2/20\n",
      "865/865 - 7s - loss: 1.0387 - acc: 0.6818\n",
      "Epoch 3/20\n",
      "865/865 - 7s - loss: 0.8831 - acc: 0.7471\n",
      "Epoch 4/20\n",
      "865/865 - 7s - loss: 0.7957 - acc: 0.7733\n",
      "Epoch 5/20\n",
      "865/865 - 7s - loss: 0.7519 - acc: 0.7873\n",
      "Epoch 6/20\n",
      "865/865 - 7s - loss: 0.7059 - acc: 0.7980\n",
      "Epoch 7/20\n",
      "865/865 - 7s - loss: 0.6767 - acc: 0.8047\n",
      "Epoch 8/20\n",
      "865/865 - 7s - loss: 0.6400 - acc: 0.8182\n",
      "Epoch 9/20\n",
      "865/865 - 7s - loss: 0.6352 - acc: 0.8183\n",
      "Epoch 10/20\n",
      "865/865 - 7s - loss: 0.6193 - acc: 0.8218\n",
      "Epoch 11/20\n",
      "865/865 - 7s - loss: 0.5997 - acc: 0.8277\n",
      "Epoch 12/20\n",
      "865/865 - 7s - loss: 0.5888 - acc: 0.8298\n",
      "Epoch 13/20\n",
      "865/865 - 7s - loss: 0.5804 - acc: 0.8274\n",
      "Epoch 14/20\n",
      "865/865 - 7s - loss: 0.5625 - acc: 0.8359\n",
      "Epoch 15/20\n",
      "865/865 - 7s - loss: 0.5630 - acc: 0.8319\n",
      "Epoch 16/20\n",
      "865/865 - 8s - loss: 0.5494 - acc: 0.8391\n",
      "Epoch 17/20\n",
      "865/865 - 8s - loss: 0.5379 - acc: 0.8462\n",
      "Epoch 18/20\n",
      "865/865 - 7s - loss: 0.5333 - acc: 0.8475\n",
      "Epoch 19/20\n",
      "865/865 - 7s - loss: 0.5271 - acc: 0.8465\n",
      "Epoch 20/20\n",
      "865/865 - 7s - loss: 0.5214 - acc: 0.8483\n"
     ]
    },
    {
     "data": {
      "text/plain": [
       "<tensorflow.python.keras.callbacks.History at 0x145fafa50>"
      ]
     },
     "execution_count": 10,
     "metadata": {},
     "output_type": "execute_result"
    }
   ],
   "source": [
    "model.fit(train_gen, epochs=20,verbose=2)"
   ]
  },
  {
   "cell_type": "code",
   "execution_count": 11,
   "metadata": {},
   "outputs": [],
   "source": [
    "model.save(\"LSTM_Weather_Model.h5\")"
   ]
  },
  {
   "cell_type": "markdown",
   "metadata": {},
   "source": [
    "## Test Model"
   ]
  },
  {
   "cell_type": "code",
   "execution_count": 12,
   "metadata": {},
   "outputs": [],
   "source": [
    "test_df = pd.read_csv(working_dir+\"/test_weather.csv\")\n",
    "test_df.index = test_df['Unnamed: 0'].values\n",
    "test_df.drop(['Unnamed: 0'],axis=1,inplace=True)\n",
    "\n",
    "y_test = test_df[\"p_target_4\"].values\n",
    "y_test_hot = np.zeros((y_test.size, y_test.max()+1))\n",
    "y_test_hot[np.arange(y_test.size),y_test] = 1\n",
    "\n",
    "test_df.drop(['p_target_4'],axis=1,inplace=True)\n",
    "X_test = test_df.values\n",
    "\n",
    "test_gen = TimeseriesGenerator(X_test, y_test_hot,length=time_steps, batch_size=2)"
   ]
  },
  {
   "cell_type": "code",
   "execution_count": 13,
   "metadata": {},
   "outputs": [
    {
     "name": "stdout",
     "output_type": "stream",
     "text": [
      "              precision    recall  f1-score   support\n",
      "\n",
      "         low       0.86      0.80      0.83       249\n",
      "         mid       0.46      0.59      0.52       106\n",
      "        high       0.94      0.90      0.92       391\n",
      "\n",
      "    accuracy                           0.82       746\n",
      "   macro avg       0.75      0.77      0.76       746\n",
      "weighted avg       0.84      0.82      0.83       746\n",
      "\n"
     ]
    }
   ],
   "source": [
    "yh = model.predict(test_gen)\n",
    "\n",
    "target_names = ['low', 'mid', 'high']\n",
    "print(classification_report(y_test[:yh.shape[0]], np.argmax(yh,axis=1), target_names=target_names))"
   ]
  },
  {
   "cell_type": "code",
   "execution_count": null,
   "metadata": {},
   "outputs": [],
   "source": []
  },
  {
   "cell_type": "code",
   "execution_count": null,
   "metadata": {},
   "outputs": [],
   "source": []
  }
 ],
 "metadata": {
  "kernelspec": {
   "display_name": "Python 3",
   "language": "python",
   "name": "python3"
  },
  "language_info": {
   "codemirror_mode": {
    "name": "ipython",
    "version": 3
   },
   "file_extension": ".py",
   "mimetype": "text/x-python",
   "name": "python",
   "nbconvert_exporter": "python",
   "pygments_lexer": "ipython3",
   "version": "3.7.4"
  }
 },
 "nbformat": 4,
 "nbformat_minor": 2
}
