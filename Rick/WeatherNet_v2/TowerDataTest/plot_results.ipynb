{
 "cells": [
  {
   "cell_type": "code",
   "execution_count": 1,
   "metadata": {},
   "outputs": [],
   "source": [
    "# https://github.com/cutecharts/cutecharts.py\n",
    "import cutecharts.charts as ctc \n",
    "import pandas as pd"
   ]
  },
  {
   "cell_type": "code",
   "execution_count": 2,
   "metadata": {},
   "outputs": [],
   "source": [
    "df = pd.DataFrame({\n",
    " 'x':['15','30','45','60','75','90'],\n",
    " 'y':[84,87,85,82,79,77]})"
   ]
  },
  {
   "cell_type": "code",
   "execution_count": 3,
   "metadata": {},
   "outputs": [
    {
     "data": {
      "text/html": [
       "\n",
       "<script>\n",
       "    require.config({\n",
       "        paths: {\n",
       "            'chartXkcd':'https://cdn.jsdelivr.net/npm/chart.xkcd@1.1/dist/chart.xkcd.min'\n",
       "        }\n",
       "    });\n",
       "</script>\n",
       "\n",
       "<div id=\"612c0bd4f9c0446181b42ca0b15736e7\" class=\"chart-container\" style=\"width: 500px\">\n",
       "        <svg id=\"chart_612c0bd4f9c0446181b42ca0b15736e7\"></svg>\n",
       "    </div>\n",
       "    <script>\n",
       "        require(['chartXkcd'], function(chartXkcd) {\n",
       "            const svg_612c0bd4f9c0446181b42ca0b15736e7 = document.querySelector('#chart_612c0bd4f9c0446181b42ca0b15736e7')\n",
       "            const chart_612c0bd4f9c0446181b42ca0b15736e7 = new chartXkcd.Line(svg_612c0bd4f9c0446181b42ca0b15736e7, {\"title\": \"LSTM Solar Radiation Test Results\", \"data\": {\"datasets\": [{\"label\": \"Accuracy\", \"data\": [84, 87, 85, 82, 79, 77]}], \"labels\": [\"15\", \"30\", \"45\", \"60\", \"75\", \"90\"]}, \"xLabel\": \"Minutes\", \"yLabel\": \"Accuracy\", \"options\": {\"yTickCount\": 3, \"legendPosition\": 2, \"dataColors\": [\"orange\"]}});\n",
       "        })\n",
       "    </script>\n"
      ],
      "text/plain": [
       "<cutecharts.render.engine.HTML at 0x10570ef50>"
      ]
     },
     "execution_count": 3,
     "metadata": {},
     "output_type": "execute_result"
    }
   ],
   "source": [
    "chart = ctc.Line(\"LSTM Solar Radiation Test Results\",width='500px',height='400px')\n",
    "chart.set_options(\n",
    " labels=list(df['x']), \n",
    " x_label=\"Minutes\",\n",
    " y_label=\"Accuracy\",\n",
    " legend_pos='upRight',\n",
    " colors=[\"orange\"])\n",
    "chart.add_series(\"Accuracy\", list(df['y']))\n",
    "chart.render_notebook()"
   ]
  },
  {
   "cell_type": "code",
   "execution_count": null,
   "metadata": {},
   "outputs": [],
   "source": []
  },
  {
   "cell_type": "code",
   "execution_count": null,
   "metadata": {},
   "outputs": [],
   "source": []
  }
 ],
 "metadata": {
  "kernelspec": {
   "display_name": "Python 3",
   "language": "python",
   "name": "python3"
  },
  "language_info": {
   "codemirror_mode": {
    "name": "ipython",
    "version": 3
   },
   "file_extension": ".py",
   "mimetype": "text/x-python",
   "name": "python",
   "nbconvert_exporter": "python",
   "pygments_lexer": "ipython3",
   "version": "3.7.4"
  }
 },
 "nbformat": 4,
 "nbformat_minor": 4
}
