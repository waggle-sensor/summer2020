{
 "cells": [
  {
   "cell_type": "markdown",
   "metadata": {},
   "source": [
    "# Solar Forecast with LSTM\n",
    "# Part 2: Split Train and Test Data"
   ]
  },
  {
   "cell_type": "markdown",
   "metadata": {},
   "source": [
    "## Import Modules"
   ]
  },
  {
   "cell_type": "code",
   "execution_count": null,
   "metadata": {},
   "outputs": [],
   "source": [
    "import pandas as pd\n",
    "import os \n",
    "\n",
    "from sklearn.preprocessing import MinMaxScaler"
   ]
  },
  {
   "cell_type": "code",
   "execution_count": null,
   "metadata": {},
   "outputs": [],
   "source": [
    "working_dir = '/Users/rick/Desktop/Argonne_Summer_Work/WeatherNet/Weather_LSTM'"
   ]
  },
  {
   "cell_type": "markdown",
   "metadata": {},
   "source": [
    "## Load Data"
   ]
  },
  {
   "cell_type": "code",
   "execution_count": null,
   "metadata": {},
   "outputs": [],
   "source": [
    "df = pd.read_csv(working_dir+\"/Argonne_Weather_All.csv\")\n",
    "df.index = df[\"date\"]\n",
    "df.drop(\"date\",axis=1,inplace=True)\n",
    "df.drop(\"date.1\",axis=1,inplace=True)\n",
    "df.head()"
   ]
  },
  {
   "cell_type": "code",
   "execution_count": null,
   "metadata": {},
   "outputs": [],
   "source": [
    "df.columns"
   ]
  },
  {
   "cell_type": "code",
   "execution_count": null,
   "metadata": {},
   "outputs": [],
   "source": [
    "df.dtypes"
   ]
  },
  {
   "cell_type": "code",
   "execution_count": null,
   "metadata": {},
   "outputs": [],
   "source": [
    "df = pd.concat([df,pd.get_dummies(df['target_1'], prefix='t1')],axis=1)\n",
    "df.drop(['target_1'],axis=1, inplace=True)\n",
    "\n",
    "df = pd.concat([df,pd.get_dummies(df['target_2'], prefix='t2')],axis=1)\n",
    "df.drop(['target_2'],axis=1, inplace=True)\n",
    "\n",
    "df = pd.concat([df,pd.get_dummies(df['target_3'], prefix='t3')],axis=1)\n",
    "df.drop(['target_3'],axis=1, inplace=True)\n",
    "\n",
    "df = pd.concat([df,pd.get_dummies(df['target_4'], prefix='t4')],axis=1)\n",
    "df.drop(['target_4'],axis=1, inplace=True)\n",
    "\n",
    "df = pd.concat([df,pd.get_dummies(df['target_5'], prefix='t5')],axis=1)\n",
    "df.drop(['target_5'],axis=1, inplace=True)\n",
    "\n",
    "df = pd.concat([df,pd.get_dummies(df['target_6'], prefix='t6')],axis=1)\n",
    "df.drop(['target_6'],axis=1, inplace=True)\n",
    "\n",
    "df = pd.concat([df,pd.get_dummies(df['target_7'], prefix='t7')],axis=1)\n",
    "df.drop(['target_7'],axis=1, inplace=True)\n",
    "\n",
    "df = pd.concat([df,pd.get_dummies(df['target_8'], prefix='t8')],axis=1)\n",
    "df.drop(['target_8'],axis=1, inplace=True)\n",
    "\n",
    "df = pd.concat([df,pd.get_dummies(df['target_9'], prefix='t9')],axis=1)\n",
    "df.drop(['target_9'],axis=1, inplace=True)\n",
    "\n",
    "df = pd.concat([df,pd.get_dummies(df['target_10'], prefix='t10')],axis=1)\n",
    "df.drop(['target_10'],axis=1, inplace=True)\n",
    "\n",
    "df = pd.concat([df,pd.get_dummies(df['target_11'], prefix='t11')],axis=1)\n",
    "df.drop(['target_11'],axis=1, inplace=True)\n",
    "\n",
    "df = pd.concat([df,pd.get_dummies(df['target_12'], prefix='t12')],axis=1)\n",
    "df.drop(['target_12'],axis=1, inplace=True)\n"
   ]
  },
  {
   "cell_type": "code",
   "execution_count": null,
   "metadata": {},
   "outputs": [],
   "source": [
    "Min_Max_Col = [\n",
    "'Average 60 m wind direction (scalar) (units: deg)',\n",
    "'Average 60 m wind speed (scalar)  (units: m/s)',\n",
    "'Standard deviation of 60 m wind direction (units: deg)',\n",
    "'Average 60 m temperature  (units:deg C)',\n",
    "'Average 10 m wind direction (scalar) (units: deg)',\n",
    "'Average 10 m wind speed (scalar) (units: m/s)',\n",
    "'Standard deviation of 10 m wind direction (units: deg)',\n",
    "'Average 10 m temperature (units: deg C)',\n",
    "'Average dew point temperature (units: deg C) ', \n",
    "'Average relative humidity (units: %)',\n",
    "'Average temperature difference/100m (units: deg C/100m)',\n",
    "'Total precipitation (units: mm)',\n",
    "'Average solar radiation (units: Watts/m**2)',\n",
    "'Average net radiation (units: Watts/m**2)',\n",
    "'Average barometric pressure (units: kPa)',\n",
    "'Average water vapor pressure (units: kPa)',\n",
    "'Average 10 cm soil temperature (units: deg C)',\n",
    "'Average 100 cm soil temperature (units: deg C)',\n",
    "'Average 10 ft soil temperature (units: deg C)',    \n",
    "'Average 60 m wind direction (scalar) (units: deg)_1',\n",
    "'Average 60 m wind direction (scalar) (units: deg)_2',\n",
    "'Average 60 m wind direction (scalar) (units: deg)_3',\n",
    "'Average 60 m wind direction (scalar) (units: deg)_4',\n",
    "'Average 60 m wind direction (scalar) (units: deg)_5',\n",
    "'Average 60 m wind direction (scalar) (units: deg)_6',\n",
    "'Average 60 m wind direction (scalar) (units: deg)_7',\n",
    "'Average 60 m wind direction (scalar) (units: deg)_8',\n",
    "'Average 60 m wind direction (scalar) (units: deg)_9',\n",
    "'Average 60 m wind direction (scalar) (units: deg)_10',\n",
    "'Average 60 m wind direction (scalar) (units: deg)_11',\n",
    "'Average 60 m wind direction (scalar) (units: deg)_12',\n",
    "'Average 60 m wind speed (scalar)  (units: m/s)_1',\n",
    "'Average 60 m wind speed (scalar)  (units: m/s)_2',\n",
    "'Average 60 m wind speed (scalar)  (units: m/s)_3',\n",
    "'Average 60 m wind speed (scalar)  (units: m/s)_4',\n",
    "'Average 60 m wind speed (scalar)  (units: m/s)_5',\n",
    "'Average 60 m wind speed (scalar)  (units: m/s)_6',\n",
    "'Average 60 m wind speed (scalar)  (units: m/s)_7',\n",
    "'Average 60 m wind speed (scalar)  (units: m/s)_8',\n",
    "'Average 60 m wind speed (scalar)  (units: m/s)_9',\n",
    "'Average 60 m wind speed (scalar)  (units: m/s)_10',\n",
    "'Average 60 m wind speed (scalar)  (units: m/s)_11',\n",
    "'Average 60 m wind speed (scalar)  (units: m/s)_12',\n",
    "'Standard deviation of 60 m wind direction (units: deg)_1',\n",
    "'Standard deviation of 60 m wind direction (units: deg)_2',\n",
    "'Standard deviation of 60 m wind direction (units: deg)_3',\n",
    "'Standard deviation of 60 m wind direction (units: deg)_4',\n",
    "'Standard deviation of 60 m wind direction (units: deg)_5',\n",
    "'Standard deviation of 60 m wind direction (units: deg)_6',\n",
    "'Standard deviation of 60 m wind direction (units: deg)_7',\n",
    "'Standard deviation of 60 m wind direction (units: deg)_8',\n",
    "'Standard deviation of 60 m wind direction (units: deg)_9',\n",
    "'Standard deviation of 60 m wind direction (units: deg)_10',\n",
    "'Standard deviation of 60 m wind direction (units: deg)_11',\n",
    "'Standard deviation of 60 m wind direction (units: deg)_12',\n",
    "'Average 60 m temperature  (units:deg C)_1',\n",
    "'Average 60 m temperature  (units:deg C)_2',\n",
    "'Average 60 m temperature  (units:deg C)_3',\n",
    "'Average 60 m temperature  (units:deg C)_4',\n",
    "'Average 60 m temperature  (units:deg C)_5',\n",
    "'Average 60 m temperature  (units:deg C)_6',\n",
    "'Average 60 m temperature  (units:deg C)_7',\n",
    "'Average 60 m temperature  (units:deg C)_8',\n",
    "'Average 60 m temperature  (units:deg C)_9',\n",
    "'Average 60 m temperature  (units:deg C)_10',\n",
    "'Average 60 m temperature  (units:deg C)_11',\n",
    "'Average 60 m temperature  (units:deg C)_12',\n",
    "'Average 10 m wind direction (scalar) (units: deg)_1',\n",
    "'Average 10 m wind direction (scalar) (units: deg)_2',\n",
    "'Average 10 m wind direction (scalar) (units: deg)_3',\n",
    "'Average 10 m wind direction (scalar) (units: deg)_4',\n",
    "'Average 10 m wind direction (scalar) (units: deg)_5',\n",
    "'Average 10 m wind direction (scalar) (units: deg)_6',\n",
    "'Average 10 m wind direction (scalar) (units: deg)_7',\n",
    "'Average 10 m wind direction (scalar) (units: deg)_8',\n",
    "'Average 10 m wind direction (scalar) (units: deg)_9',\n",
    "'Average 10 m wind direction (scalar) (units: deg)_10',\n",
    "'Average 10 m wind direction (scalar) (units: deg)_11',\n",
    "'Average 10 m wind direction (scalar) (units: deg)_12',\n",
    "'Average 10 m wind speed (scalar) (units: m/s)_1',\n",
    "'Average 10 m wind speed (scalar) (units: m/s)_2',\n",
    "'Average 10 m wind speed (scalar) (units: m/s)_3',\n",
    "'Average 10 m wind speed (scalar) (units: m/s)_4',\n",
    "'Average 10 m wind speed (scalar) (units: m/s)_5',\n",
    "'Average 10 m wind speed (scalar) (units: m/s)_6',\n",
    "'Average 10 m wind speed (scalar) (units: m/s)_7',\n",
    "'Average 10 m wind speed (scalar) (units: m/s)_8',\n",
    "'Average 10 m wind speed (scalar) (units: m/s)_9',\n",
    "'Average 10 m wind speed (scalar) (units: m/s)_10',\n",
    "'Average 10 m wind speed (scalar) (units: m/s)_11',\n",
    "'Average 10 m wind speed (scalar) (units: m/s)_12',\n",
    "'Standard deviation of 10 m wind direction (units: deg)_1',\n",
    "'Standard deviation of 10 m wind direction (units: deg)_2',\n",
    "'Standard deviation of 10 m wind direction (units: deg)_3',\n",
    "'Standard deviation of 10 m wind direction (units: deg)_4',\n",
    "'Standard deviation of 10 m wind direction (units: deg)_5',\n",
    "'Standard deviation of 10 m wind direction (units: deg)_6',\n",
    "'Standard deviation of 10 m wind direction (units: deg)_7',\n",
    "'Standard deviation of 10 m wind direction (units: deg)_8',\n",
    "'Standard deviation of 10 m wind direction (units: deg)_9',\n",
    "'Standard deviation of 10 m wind direction (units: deg)_10',\n",
    "'Standard deviation of 10 m wind direction (units: deg)_11',\n",
    "'Standard deviation of 10 m wind direction (units: deg)_12',\n",
    "'Average 10 m temperature (units: deg C)_1',\n",
    "'Average 10 m temperature (units: deg C)_2',\n",
    "'Average 10 m temperature (units: deg C)_3',\n",
    "'Average 10 m temperature (units: deg C)_4',\n",
    "'Average 10 m temperature (units: deg C)_5',\n",
    "'Average 10 m temperature (units: deg C)_6',\n",
    "'Average 10 m temperature (units: deg C)_7',\n",
    "'Average 10 m temperature (units: deg C)_8',\n",
    "'Average 10 m temperature (units: deg C)_9',\n",
    "'Average 10 m temperature (units: deg C)_10',\n",
    "'Average 10 m temperature (units: deg C)_11',\n",
    "'Average 10 m temperature (units: deg C)_12',\n",
    "'Average dew point temperature (units: deg C) _1',\n",
    "'Average dew point temperature (units: deg C) _2',\n",
    "'Average dew point temperature (units: deg C) _3',\n",
    "'Average dew point temperature (units: deg C) _4',\n",
    "'Average dew point temperature (units: deg C) _5',\n",
    "'Average dew point temperature (units: deg C) _6',\n",
    "'Average dew point temperature (units: deg C) _7',\n",
    "'Average dew point temperature (units: deg C) _8',\n",
    "'Average dew point temperature (units: deg C) _9',\n",
    "'Average dew point temperature (units: deg C) _10',\n",
    "'Average dew point temperature (units: deg C) _11',\n",
    "'Average dew point temperature (units: deg C) _12',\n",
    "'Average relative humidity (units: %)_1',\n",
    "'Average relative humidity (units: %)_2',\n",
    "'Average relative humidity (units: %)_3',\n",
    "'Average relative humidity (units: %)_4',\n",
    "'Average relative humidity (units: %)_5',\n",
    "'Average relative humidity (units: %)_6',\n",
    "'Average relative humidity (units: %)_7',\n",
    "'Average relative humidity (units: %)_8',\n",
    "'Average relative humidity (units: %)_9',\n",
    "'Average relative humidity (units: %)_10',\n",
    "'Average relative humidity (units: %)_11',\n",
    "'Average relative humidity (units: %)_12',\n",
    "'Average temperature difference/100m (units: deg C/100m)_1',\n",
    "'Average temperature difference/100m (units: deg C/100m)_2',\n",
    "'Average temperature difference/100m (units: deg C/100m)_3',\n",
    "'Average temperature difference/100m (units: deg C/100m)_4',\n",
    "'Average temperature difference/100m (units: deg C/100m)_5',\n",
    "'Average temperature difference/100m (units: deg C/100m)_6',\n",
    "'Average temperature difference/100m (units: deg C/100m)_7',\n",
    "'Average temperature difference/100m (units: deg C/100m)_8',\n",
    "'Average temperature difference/100m (units: deg C/100m)_9',\n",
    "'Average temperature difference/100m (units: deg C/100m)_10',\n",
    "'Average temperature difference/100m (units: deg C/100m)_11',\n",
    "'Average temperature difference/100m (units: deg C/100m)_12',\n",
    "'Total precipitation (units: mm)_1',\n",
    "'Total precipitation (units: mm)_2',\n",
    "'Total precipitation (units: mm)_3',\n",
    "'Total precipitation (units: mm)_4',\n",
    "'Total precipitation (units: mm)_5',\n",
    "'Total precipitation (units: mm)_6',\n",
    "'Total precipitation (units: mm)_7',\n",
    "'Total precipitation (units: mm)_8',\n",
    "'Total precipitation (units: mm)_9',\n",
    "'Total precipitation (units: mm)_10',\n",
    "'Total precipitation (units: mm)_11',\n",
    "'Total precipitation (units: mm)_12',\n",
    "'Average solar radiation (units: Watts/m**2)_1',\n",
    "'Average solar radiation (units: Watts/m**2)_2',\n",
    "'Average solar radiation (units: Watts/m**2)_3',\n",
    "'Average solar radiation (units: Watts/m**2)_4',\n",
    "'Average solar radiation (units: Watts/m**2)_5',\n",
    "'Average solar radiation (units: Watts/m**2)_6',\n",
    "'Average solar radiation (units: Watts/m**2)_7',\n",
    "'Average solar radiation (units: Watts/m**2)_8',\n",
    "'Average solar radiation (units: Watts/m**2)_9',\n",
    "'Average solar radiation (units: Watts/m**2)_10',\n",
    "'Average solar radiation (units: Watts/m**2)_11',\n",
    "'Average solar radiation (units: Watts/m**2)_12',\n",
    "'Average net radiation (units: Watts/m**2)_1',\n",
    "'Average net radiation (units: Watts/m**2)_2',\n",
    "'Average net radiation (units: Watts/m**2)_3',\n",
    "'Average net radiation (units: Watts/m**2)_4',\n",
    "'Average net radiation (units: Watts/m**2)_5',\n",
    "'Average net radiation (units: Watts/m**2)_6',\n",
    "'Average net radiation (units: Watts/m**2)_7',\n",
    "'Average net radiation (units: Watts/m**2)_8',\n",
    "'Average net radiation (units: Watts/m**2)_9',\n",
    "'Average net radiation (units: Watts/m**2)_10',\n",
    "'Average net radiation (units: Watts/m**2)_11',\n",
    "'Average net radiation (units: Watts/m**2)_12',\n",
    "'Average barometric pressure (units: kPa)_1',\n",
    "'Average barometric pressure (units: kPa)_2',\n",
    "'Average barometric pressure (units: kPa)_3',\n",
    "'Average barometric pressure (units: kPa)_4',\n",
    "'Average barometric pressure (units: kPa)_5',\n",
    "'Average barometric pressure (units: kPa)_6',\n",
    "'Average barometric pressure (units: kPa)_7',\n",
    "'Average barometric pressure (units: kPa)_8',\n",
    "'Average barometric pressure (units: kPa)_9',\n",
    "'Average barometric pressure (units: kPa)_10',\n",
    "'Average barometric pressure (units: kPa)_11',\n",
    "'Average barometric pressure (units: kPa)_12',\n",
    "'Average water vapor pressure (units: kPa)_1',\n",
    "'Average water vapor pressure (units: kPa)_2',\n",
    "'Average water vapor pressure (units: kPa)_3',\n",
    "'Average water vapor pressure (units: kPa)_4',\n",
    "'Average water vapor pressure (units: kPa)_5',\n",
    "'Average water vapor pressure (units: kPa)_6',\n",
    "'Average water vapor pressure (units: kPa)_7',\n",
    "'Average water vapor pressure (units: kPa)_8',\n",
    "'Average water vapor pressure (units: kPa)_9',\n",
    "'Average water vapor pressure (units: kPa)_10',\n",
    "'Average water vapor pressure (units: kPa)_11',\n",
    "'Average water vapor pressure (units: kPa)_12',\n",
    "'Average 10 cm soil temperature (units: deg C)_1',\n",
    "'Average 10 cm soil temperature (units: deg C)_2',\n",
    "'Average 10 cm soil temperature (units: deg C)_3',\n",
    "'Average 10 cm soil temperature (units: deg C)_4',\n",
    "'Average 10 cm soil temperature (units: deg C)_5',\n",
    "'Average 10 cm soil temperature (units: deg C)_6',\n",
    "'Average 10 cm soil temperature (units: deg C)_7',\n",
    "'Average 10 cm soil temperature (units: deg C)_8',\n",
    "'Average 10 cm soil temperature (units: deg C)_9',\n",
    "'Average 10 cm soil temperature (units: deg C)_10',\n",
    "'Average 10 cm soil temperature (units: deg C)_11',\n",
    "'Average 10 cm soil temperature (units: deg C)_12',\n",
    "'Average 100 cm soil temperature (units: deg C)_1',\n",
    "'Average 100 cm soil temperature (units: deg C)_2',\n",
    "'Average 100 cm soil temperature (units: deg C)_3',\n",
    "'Average 100 cm soil temperature (units: deg C)_4',\n",
    "'Average 100 cm soil temperature (units: deg C)_5',\n",
    "'Average 100 cm soil temperature (units: deg C)_6',\n",
    "'Average 100 cm soil temperature (units: deg C)_7',\n",
    "'Average 100 cm soil temperature (units: deg C)_8',\n",
    "'Average 100 cm soil temperature (units: deg C)_9',\n",
    "'Average 100 cm soil temperature (units: deg C)_10',\n",
    "'Average 100 cm soil temperature (units: deg C)_11',\n",
    "'Average 100 cm soil temperature (units: deg C)_12',\n",
    "'Average 10 ft soil temperature (units: deg C)_1',\n",
    "'Average 10 ft soil temperature (units: deg C)_2',\n",
    "'Average 10 ft soil temperature (units: deg C)_3',\n",
    "'Average 10 ft soil temperature (units: deg C)_4',\n",
    "'Average 10 ft soil temperature (units: deg C)_5',\n",
    "'Average 10 ft soil temperature (units: deg C)_6',\n",
    "'Average 10 ft soil temperature (units: deg C)_7',\n",
    "'Average 10 ft soil temperature (units: deg C)_8',\n",
    "'Average 10 ft soil temperature (units: deg C)_9',\n",
    "'Average 10 ft soil temperature (units: deg C)_10',\n",
    "'Average 10 ft soil temperature (units: deg C)_11',\n",
    "'Average 10 ft soil temperature (units: deg C)_12',  \n",
    "]"
   ]
  },
  {
   "cell_type": "code",
   "execution_count": null,
   "metadata": {},
   "outputs": [],
   "source": [
    "train = df.iloc[:-250,:]\n",
    "test = df.iloc[-250:,:]"
   ]
  },
  {
   "cell_type": "code",
   "execution_count": null,
   "metadata": {},
   "outputs": [],
   "source": [
    "train.tail()"
   ]
  },
  {
   "cell_type": "code",
   "execution_count": null,
   "metadata": {},
   "outputs": [],
   "source": [
    "test.head()"
   ]
  },
  {
   "cell_type": "code",
   "execution_count": null,
   "metadata": {},
   "outputs": [],
   "source": [
    "scaler = MinMaxScaler()\n",
    "scaler.fit(train[Min_Max_Col])\n",
    "\n",
    "train_scaled = scaler.transform(train[Min_Max_Col])\n",
    "test_scaled = scaler.transform(test[Min_Max_Col])"
   ]
  },
  {
   "cell_type": "code",
   "execution_count": null,
   "metadata": {},
   "outputs": [],
   "source": [
    "train_scaled = pd.DataFrame(train_scaled,columns=Min_Max_Col)\n",
    "test_scaled = pd.DataFrame(test_scaled,columns=Min_Max_Col)\n",
    "train_scaled.head()"
   ]
  },
  {
   "cell_type": "code",
   "execution_count": null,
   "metadata": {},
   "outputs": [],
   "source": [
    "test_scaled.head()"
   ]
  },
  {
   "cell_type": "code",
   "execution_count": null,
   "metadata": {},
   "outputs": [],
   "source": [
    "pd.options.mode.chained_assignment = None\n",
    "\n",
    "for i,col in enumerate(Min_Max_Col):\n",
    "    train.drop([col],axis=1, inplace=True)\n",
    "train_index = train.index.values\n",
    "train = train.reset_index(drop=True)\n",
    "\n",
    "col_1 = list(train.columns)\n",
    "col_2 = list(train_scaled.columns)\n",
    "cols = col_2 + col_1\n",
    "\n",
    "train_new = pd.concat([train_scaled,train],ignore_index=True,axis=1)\n",
    "train_new.index = train_index\n",
    "train_new.columns = cols"
   ]
  },
  {
   "cell_type": "code",
   "execution_count": null,
   "metadata": {},
   "outputs": [],
   "source": [
    "train_new.head()"
   ]
  },
  {
   "cell_type": "code",
   "execution_count": null,
   "metadata": {},
   "outputs": [],
   "source": [
    "train_new.tail()"
   ]
  },
  {
   "cell_type": "code",
   "execution_count": null,
   "metadata": {},
   "outputs": [],
   "source": [
    "train_new.to_csv(\"train_weather.csv\")"
   ]
  },
  {
   "cell_type": "code",
   "execution_count": null,
   "metadata": {},
   "outputs": [],
   "source": [
    "for i,col in enumerate(Min_Max_Col):\n",
    "    test.drop([col],axis=1, inplace=True)\n",
    "test_index = test.index.values\n",
    "test = test.reset_index(drop=True)\n",
    "\n",
    "col_1 = list(test.columns)\n",
    "col_2 = list(test_scaled.columns)\n",
    "cols = col_2 + col_1\n",
    "\n",
    "test_new = pd.concat([test_scaled,test],ignore_index=True,axis=1)\n",
    "test_new.index = test_index\n",
    "test_new.columns = cols"
   ]
  },
  {
   "cell_type": "code",
   "execution_count": null,
   "metadata": {},
   "outputs": [],
   "source": [
    "test_new.head()"
   ]
  },
  {
   "cell_type": "code",
   "execution_count": null,
   "metadata": {},
   "outputs": [],
   "source": [
    "test_new.tail()"
   ]
  },
  {
   "cell_type": "code",
   "execution_count": null,
   "metadata": {},
   "outputs": [],
   "source": [
    "test_new.to_csv(\"test_weather.csv\")"
   ]
  },
  {
   "cell_type": "code",
   "execution_count": null,
   "metadata": {},
   "outputs": [],
   "source": []
  },
  {
   "cell_type": "code",
   "execution_count": null,
   "metadata": {},
   "outputs": [],
   "source": []
  },
  {
   "cell_type": "code",
   "execution_count": null,
   "metadata": {},
   "outputs": [],
   "source": []
  }
 ],
 "metadata": {
  "kernelspec": {
   "display_name": "Python 3",
   "language": "python",
   "name": "python3"
  },
  "language_info": {
   "codemirror_mode": {
    "name": "ipython",
    "version": 3
   },
   "file_extension": ".py",
   "mimetype": "text/x-python",
   "name": "python",
   "nbconvert_exporter": "python",
   "pygments_lexer": "ipython3",
   "version": "3.7.3"
  }
 },
 "nbformat": 4,
 "nbformat_minor": 2
}
