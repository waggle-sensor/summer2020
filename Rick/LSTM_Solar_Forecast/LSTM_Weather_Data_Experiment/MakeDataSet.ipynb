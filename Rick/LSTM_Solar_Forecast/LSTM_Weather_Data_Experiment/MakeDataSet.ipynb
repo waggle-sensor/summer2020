{
 "cells": [
  {
   "cell_type": "markdown",
   "metadata": {},
   "source": [
    "# Solar Forecast with LSTM\n",
    "# Part 1: Data Prep"
   ]
  },
  {
   "cell_type": "code",
   "execution_count": null,
   "metadata": {},
   "outputs": [],
   "source": [
    "import pandas as pd\n",
    "import os "
   ]
  },
  {
   "cell_type": "code",
   "execution_count": null,
   "metadata": {},
   "outputs": [],
   "source": [
    "working_dir = '/Users/rick/Desktop/Argonne_Summer_Work/WeatherNet/Weather_LSTM'"
   ]
  },
  {
   "cell_type": "markdown",
   "metadata": {},
   "source": [
    "## Make Holistic Weather Data"
   ]
  },
  {
   "cell_type": "code",
   "execution_count": null,
   "metadata": {},
   "outputs": [],
   "source": [
    "jan_df = pd.read_csv(working_dir+\"/weather_argonne_01_2020.csv\")\n",
    "feb_df = pd.read_csv(working_dir+\"/weather_argonne_02_2020.csv\")\n",
    "mar_df = pd.read_csv(working_dir+\"/weather_argonne_03_2020.csv\")\n",
    "apr_df = pd.read_csv(working_dir+\"/weather_argonne_04_2020.csv\")"
   ]
  },
  {
   "cell_type": "code",
   "execution_count": null,
   "metadata": {},
   "outputs": [],
   "source": [
    "jan_col = list(jan_df.columns)\n",
    "feb_col = list(feb_df.columns)\n",
    "mar_col = list(mar_df.columns)\n",
    "apr_col = list(apr_df.columns)\n",
    "\n",
    "if jan_col == feb_col == mar_col == apr_col: \n",
    "    print('All column names are the same.')    "
   ]
  },
  {
   "cell_type": "code",
   "execution_count": null,
   "metadata": {},
   "outputs": [],
   "source": [
    "df = pd.concat([jan_df,feb_df,mar_df,apr_df],axis=0) \n",
    "df.dropna(inplace=True)\n",
    "df = df.reset_index(drop=True)\n",
    "df.head()"
   ]
  },
  {
   "cell_type": "code",
   "execution_count": null,
   "metadata": {},
   "outputs": [],
   "source": [
    "df.tail()"
   ]
  },
  {
   "cell_type": "code",
   "execution_count": null,
   "metadata": {},
   "outputs": [],
   "source": [
    "new_col_names = [name.replace(\"\\n\",\" \") for i ,name in enumerate(df.columns)]\n",
    "df.columns = new_col_names\n",
    "df.columns"
   ]
  },
  {
   "cell_type": "code",
   "execution_count": null,
   "metadata": {},
   "outputs": [],
   "source": [
    "df.dtypes"
   ]
  },
  {
   "cell_type": "code",
   "execution_count": null,
   "metadata": {},
   "outputs": [],
   "source": [
    "col_to_float = [\n",
    "'Average 60 m wind direction (scalar) (units: deg)',\n",
    "'Average 60 m wind speed (scalar)  (units: m/s)',\n",
    "'Standard deviation of 60 m wind direction (units: deg)',\n",
    "'Average 60 m temperature  (units:deg C)',\n",
    "'Average 10 m wind direction (scalar) (units: deg)',\n",
    "'Average 10 m wind speed (scalar) (units: m/s)',\n",
    "'Standard deviation of 10 m wind direction (units: deg)',\n",
    "'Average 10 m temperature (units: deg C)',\n",
    "'Average dew point temperature (units: deg C) ',\n",
    "'Average relative humidity (units: %)',\n",
    "'Average temperature difference/100m (units: deg C/100m)',\n",
    "'Average solar radiation (units: Watts/m**2)',\n",
    "'Average net radiation (units: Watts/m**2)',\n",
    "'Average barometric pressure (units: kPa)',\n",
    "'Average water vapor pressure (units: kPa)',\n",
    "'Average 10 cm soil temperature (units: deg C)',\n",
    "'Average 100 cm soil temperature (units: deg C)']"
   ]
  },
  {
   "cell_type": "code",
   "execution_count": null,
   "metadata": {},
   "outputs": [],
   "source": [
    "def remove_whitespace(x):\n",
    "    \"\"\"\n",
    "    Helper function to remove any blank space from a string\n",
    "    x: a string\n",
    "    \"\"\"\n",
    "    try:\n",
    "        # Remove spaces inside of the string\n",
    "        x = \"\".join(x.split())\n",
    "\n",
    "    except:\n",
    "        pass\n",
    "    return x"
   ]
  },
  {
   "cell_type": "code",
   "execution_count": null,
   "metadata": {},
   "outputs": [],
   "source": [
    "for i,col_name in enumerate(col_to_float):\n",
    "    if df[col_name].dtype == \"O\":\n",
    "        df[col_name] = df[col_name].apply(remove_whitespace)\n",
    "        df[col_name] = pd.to_numeric(df[col_name],errors='coerce')"
   ]
  },
  {
   "cell_type": "code",
   "execution_count": null,
   "metadata": {},
   "outputs": [],
   "source": [
    "df.dtypes"
   ]
  },
  {
   "cell_type": "code",
   "execution_count": null,
   "metadata": {},
   "outputs": [],
   "source": [
    "df.drop(['Pasquill stability class '],axis=1, inplace=True)"
   ]
  },
  {
   "cell_type": "code",
   "execution_count": null,
   "metadata": {},
   "outputs": [],
   "source": [
    "solar_values = df[\"Average solar radiation (units: Watts/m**2)\"].values\n",
    "new_solar_values = []\n",
    "for i,value in enumerate(solar_values):\n",
    "    if value < .3:\n",
    "        new_solar_values.append(0)\n",
    "    elif value < 111.6:\n",
    "        new_solar_values.append(1)\n",
    "    else: \n",
    "        new_solar_values.append(2)\n",
    "df[\"target\"] = new_solar_values\n",
    "df.head()"
   ]
  },
  {
   "cell_type": "code",
   "execution_count": null,
   "metadata": {},
   "outputs": [],
   "source": [
    "\n",
    "switch_hour = {\"30.0\": \"00\",\n",
    "               \"130.0\": \"01\",\n",
    "               \"230.0\": \"02\",\n",
    "               \"330.0\": \"03\",\n",
    "               \"430.0\": \"04\",\n",
    "                \"530.0\": \"05\",\n",
    "               \"630.0\": \"06\",\n",
    "               \"730.0\":\"07\",\n",
    "               \"830.0\":\"08\",\n",
    "               \"930.0\":\"09\",\n",
    "               \"1030.0\":\"10\",\n",
    "               \"1130.0\":\"11\",\n",
    "               \"1230.0\":\"12\",\n",
    "               \"1330.0\":\"13\",\n",
    "               \"1430.0\":\"14\",\n",
    "               \"1530.0\":\"15\",\n",
    "               \"1630.0\":\"16\",\n",
    "               \"1730.0\":\"17\",\n",
    "               \"1830.0\":\"18\",\n",
    "               \"1930.0\":\"19\",\n",
    "               \"2030.0\":\"20\",\n",
    "               \"2130.0\":\"21\",\n",
    "               \"2230.0\":\"22\",\n",
    "               \"2330.0\":\"23\",\n",
    "               \"2400.0\":\"24\",\n",
    "              }\n",
    "\n",
    "switch_day = {\"1\":\"01\",\n",
    "              \"2\":\"02\",\n",
    "              \"3\":\"03\",\n",
    "              \"4\":\"04\",\n",
    "              \"5\":\"05\",\n",
    "              \"6\":\"06\",\n",
    "              \"7\":\"07\",\n",
    "              \"8\":\"08\",\n",
    "              \"9\":\"09\",  \n",
    "              \"10\":\"10\", \n",
    "              \"11\":\"11\", \n",
    "              \"12\":\"12\", \n",
    "              \"13\":\"13\", \n",
    "              \"14\":\"14\", \n",
    "              \"15\":\"15\", \n",
    "              \"16\":\"16\", \n",
    "              \"17\":\"17\", \n",
    "              \"18\":\"18\", \n",
    "              \"19\":\"19\", \n",
    "              \"20\":\"20\", \n",
    "              \"21\":\"21\", \n",
    "              \"22\":\"22\", \n",
    "              \"23\":\"23\",\n",
    "              \"24\":\"24\",\n",
    "              \"25\":\"25\",\n",
    "              \"26\":\"26\",\n",
    "              \"27\":\"27\",\n",
    "              \"28\":\"28\",\n",
    "              \"29\":\"29\",\n",
    "              \"30\":\"30\",\n",
    "              \"31\":\"31\",\n",
    "}\n",
    "\n",
    "switch_month = {\"1.0\":\"01\",\n",
    "                \"2.0\":\"02\",\n",
    "                \"3.0\":\"03\",\n",
    "                \"4.0\":\"04\",\n",
    "}"
   ]
  },
  {
   "cell_type": "code",
   "execution_count": null,
   "metadata": {},
   "outputs": [],
   "source": [
    "df.tail()"
   ]
  },
  {
   "cell_type": "code",
   "execution_count": null,
   "metadata": {},
   "outputs": [],
   "source": [
    "Months = []\n",
    "[Months.append(switch_month.get(str(month))) for i,month in enumerate(df[\"Month\"].values)]\n",
    "df[\"Month\"] = Months\n",
    "    \n",
    "days = []\n",
    "[days.append(switch_day.get(str(day))) for i,day in enumerate(df[\"Day of the month\"].values)]\n",
    "df[\"Day of the month\"] = days\n",
    "\n",
    "hours = []\n",
    "[hours.append(switch_hour.get(str(hour))) for i,hour in enumerate(df[\"Mid averaging-period time\"].values)]\n",
    "df[\"Mid averaging-period time\"] = hours"
   ]
  },
  {
   "cell_type": "code",
   "execution_count": null,
   "metadata": {},
   "outputs": [],
   "source": [
    "days = df[\"Day of the month\"].values\n",
    "months = df[\"Month\"].values\n",
    "hours = df[\"Mid averaging-period time\"].values"
   ]
  },
  {
   "cell_type": "code",
   "execution_count": null,
   "metadata": {},
   "outputs": [],
   "source": [
    "dates = []\n",
    "for i in range(len(days)):\n",
    "    date = \"2020_\" + months[i] + \"_\" + days[i] + \"_\" + hours[i]\n",
    "    dates.append(date)\n",
    "df[\"date\"] = dates"
   ]
  },
  {
   "cell_type": "code",
   "execution_count": null,
   "metadata": {},
   "outputs": [],
   "source": [
    "df.head()"
   ]
  },
  {
   "cell_type": "code",
   "execution_count": null,
   "metadata": {},
   "outputs": [],
   "source": [
    "df = pd.concat([df,pd.get_dummies(df['Mid averaging-period time'], prefix='hour')],axis=1)\n",
    "df.drop(['Mid averaging-period time'],axis=1, inplace=True)\n",
    "df.drop(['Day of the month'],axis=1, inplace=True)\n",
    "df.drop(['Month'],axis=1, inplace=True)\n",
    "df.drop(['Year'],axis=1, inplace=True)"
   ]
  },
  {
   "cell_type": "code",
   "execution_count": null,
   "metadata": {},
   "outputs": [],
   "source": [
    "df.head()"
   ]
  },
  {
   "cell_type": "code",
   "execution_count": null,
   "metadata": {},
   "outputs": [],
   "source": [
    "p_targets = df[\"target\"].values\n",
    "p_targets = p_targets[1:]\n",
    "df = df.iloc[:-1,:]\n",
    "df[\"p_target\"] = p_targets"
   ]
  },
  {
   "cell_type": "code",
   "execution_count": null,
   "metadata": {},
   "outputs": [],
   "source": [
    "df.columns"
   ]
  },
  {
   "cell_type": "code",
   "execution_count": null,
   "metadata": {},
   "outputs": [],
   "source": [
    "# Add lag features\n",
    "col_to_lag = ['Average 60 m wind direction (scalar) (units: deg)',\n",
    "       'Average 60 m wind speed (scalar)  (units: m/s)',\n",
    "       'Standard deviation of 60 m wind direction (units: deg)',\n",
    "       'Average 60 m temperature  (units:deg C)',\n",
    "       'Average 10 m wind direction (scalar) (units: deg)',\n",
    "       'Average 10 m wind speed (scalar) (units: m/s)',\n",
    "       'Standard deviation of 10 m wind direction (units: deg)',\n",
    "       'Average 10 m temperature (units: deg C)',\n",
    "       'Average dew point temperature (units: deg C) ',\n",
    "       'Average relative humidity (units: %)',\n",
    "       'Average temperature difference/100m (units: deg C/100m)',\n",
    "       'Total precipitation (units: mm)',\n",
    "       'Average solar radiation (units: Watts/m**2)',\n",
    "       'Average net radiation (units: Watts/m**2)',\n",
    "       'Average barometric pressure (units: kPa)',\n",
    "       'Average water vapor pressure (units: kPa)',\n",
    "       'Average 10 cm soil temperature (units: deg C)',\n",
    "       'Average 100 cm soil temperature (units: deg C)',\n",
    "       'Average 10 ft soil temperature (units: deg C)', 'target',]\n",
    "\n",
    "for i, col_name in enumerate(col_to_lag):\n",
    "    for j in range(1,13):\n",
    "        df[col_name + \"_\" +str(j)] = df[col_name].shift(j)"
   ]
  },
  {
   "cell_type": "code",
   "execution_count": null,
   "metadata": {},
   "outputs": [],
   "source": [
    "for i ,name in enumerate(df.columns):\n",
    "    print(name)"
   ]
  },
  {
   "cell_type": "code",
   "execution_count": null,
   "metadata": {},
   "outputs": [],
   "source": [
    "df.dropna(inplace=True)\n",
    "df.index = df[\"date\"]\n",
    "df.head(15)"
   ]
  },
  {
   "cell_type": "code",
   "execution_count": null,
   "metadata": {},
   "outputs": [],
   "source": [
    "df.to_csv(\"Argonne_Weather_All.csv\")"
   ]
  },
  {
   "cell_type": "code",
   "execution_count": null,
   "metadata": {},
   "outputs": [],
   "source": []
  }
 ],
 "metadata": {
  "kernelspec": {
   "display_name": "Python 3",
   "language": "python",
   "name": "python3"
  },
  "language_info": {
   "codemirror_mode": {
    "name": "ipython",
    "version": 3
   },
   "file_extension": ".py",
   "mimetype": "text/x-python",
   "name": "python",
   "nbconvert_exporter": "python",
   "pygments_lexer": "ipython3",
   "version": "3.7.3"
  }
 },
 "nbformat": 4,
 "nbformat_minor": 2
}
